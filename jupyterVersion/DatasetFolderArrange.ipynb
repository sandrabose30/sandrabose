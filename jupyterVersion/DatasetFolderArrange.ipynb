{
 "cells": [
  {
   "cell_type": "code",
   "execution_count": null,
   "id": "21c1a6f1-d4d3-4cb8-9653-aa1bd5affc41",
   "metadata": {},
   "outputs": [],
   "source": [
    "import os"
   ]
  },
  {
   "cell_type": "markdown",
   "id": "dad803b7-a43e-4cff-9033-b50b83cd8dea",
   "metadata": {},
   "source": [
    "Replace path to project directory Dataset folder"
   ]
  },
  {
   "cell_type": "code",
   "execution_count": null,
   "id": "2356cb20-ab81-416d-9b10-6c3c06d3a967",
   "metadata": {},
   "outputs": [],
   "source": [
    "src_path = r\"C:\\Users\\Aswin\\Downloads\\sandrabose-new\\sandrabose-new\\Dataset\"\n",
    "os.chdir(src_path)\n",
    "#print(os.listdir())\n",
    "for a in (os.listdir()):\n",
    "    os.chdir(a)\n",
    "    print(\"Processing\", a)\n",
    "    for b in (os.listdir()):\n",
    "        os.chdir(b)\n",
    "        #print(os.listdir())\n",
    "        for c in (os.listdir()):\n",
    "            os.chdir(c)\n",
    "            #print(os.listdir())\n",
    "            for d in (os.listdir()):\n",
    "                os.chdir(d)\n",
    "                #print(os.listdir())\n",
    "                if os.path.exists('face') == False:\n",
    "                    os.mkdir('face')\n",
    "                for e in (os.listdir()):\n",
    "                    if(e==\"face\"):\n",
    "                        continue\n",
    "                    filepath=src_path+'/'+a+'/'+b+'/'+c+'/'+d+'/'+e\n",
    "                    newfilepath = src_path+'/'+a+'/'+b+'/'+c+'/'+d\n",
    "                    os.replace(filepath,os.path.join(newfilepath,'face',e))\n",
    "                print(a,\"Done\")\n",
    "                os.chdir(src_path+'/'+a+'/'+b+'/'+c)\n",
    "            os.chdir(src_path+'/'+a+'/'+b)\n",
    "        os.chdir(src_path+'/'+a)\n",
    "    os.chdir(src_path)"
   ]
  }
 ],
 "metadata": {
  "kernelspec": {
   "display_name": "Python 3 (ipykernel)",
   "language": "python",
   "name": "python3"
  },
  "language_info": {
   "codemirror_mode": {
    "name": "ipython",
    "version": 3
   },
   "file_extension": ".py",
   "mimetype": "text/x-python",
   "name": "python",
   "nbconvert_exporter": "python",
   "pygments_lexer": "ipython3",
   "version": "3.10.4"
  }
 },
 "nbformat": 4,
 "nbformat_minor": 5
}
